{
 "cells": [
  {
   "cell_type": "code",
   "execution_count": 5,
   "metadata": {},
   "outputs": [],
   "source": [
    "import pandas as pd\n",
    "import pickle\n",
    "import numpy as np\n",
    "dataset = pd.read_csv(\"../datasets/merged_dataset.csv\", parse_dates=[\"founded_at\"], dayfirst=True)\n",
    "\n",
    "columns = [\"id\", \"object_id\", \"funding_round_type\", \"raised_amount_usd\", \"entity_type\", \"name\", \"status\", \"founded_at\",\n",
    "            \"region\", \"invested_companies\", \"funding_total_usd\", \"country_code\", \"category_code\", \"tag_list\"]\n",
    "# df.info(show_counts=True)\n",
    "df = dataset.copy()\n",
    "df=df[columns]\n",
    "# df.info(show_counts=True)\n",
    "\n",
    "# df.to_csv(\"../datasets/startup_investments.csv\", index=False)\n",
    "\n"
   ]
  },
  {
   "cell_type": "code",
   "execution_count": 7,
   "metadata": {},
   "outputs": [
    {
     "name": "stdout",
     "output_type": "stream",
     "text": [
      "              region funding_round_type category_code\n",
      "27942         SF Bay           series-a      hardware\n",
      "15618      Milwaukee              angel       finance\n",
      "41604        Roncade              angel           web\n",
      "29708         Mahwah            venture   advertising\n",
      "40249         Moscow              angel        mobile\n",
      "...              ...                ...           ...\n",
      "29842        Toronto              angel     education\n",
      "48707         SF Bay           series-a     education\n",
      "12829    Los Angeles          series-c+       biotech\n",
      "8482          Dublin              angel      software\n",
      "26377  Washington DC              other      software\n",
      "\n",
      "[15788 rows x 3 columns]\n"
     ]
    }
   ],
   "source": [
    "from sklearn.metrics import mean_absolute_error\n",
    "from sklearn.model_selection import train_test_split\n",
    "from sklearn.tree import DecisionTreeRegressor\n",
    "from sklearn.ensemble import GradientBoostingRegressor\n",
    "from sklearn.preprocessing import OneHotEncoder, OrdinalEncoder\n",
    "from sklearn.compose import make_column_transformer\n",
    "from sklearn.pipeline import make_pipeline\n",
    "\n",
    "y = df.funding_total_usd\n",
    "\n",
    "features = [\"region\",  \"funding_round_type\", \"category_code\"]\n",
    "\n",
    "X = df[features]\n",
    "\n",
    "train_X, val_X, train_y, val_y = train_test_split(X, y, random_state=1)\n",
    "\n",
    "ohe = OneHotEncoder(sparse_output=False, handle_unknown=\"ignore\")\n",
    "# ohe.fit_transform(X[[\"region\"]])\n",
    "\n",
    "ore = OrdinalEncoder(handle_unknown='use_encoded_value', unknown_value=-1, categories=[[\"series-a\", \"series-b\", \"series-c+\", \"angel\", \"venture\", \"private-equity\", \"post-ipo\", \"crowdfunding\", \"other\"]])\n",
    "# ore.fit_transform(X[[\"funding_round_type\"]])\n",
    "# X[\"funding_round_type\"].unique()\n",
    "\n",
    "column_transform = make_column_transformer(\n",
    "  (ohe, [\"region\", \"category_code\"]),\n",
    "  (ore, [\"funding_round_type\"])\n",
    ")\n",
    "\n",
    "column_transform.fit_transform(X)\n",
    "\n",
    "X_train, X_test, Y_train, Y_test = train_test_split(X, y, test_size=0.3, random_state=42)\n",
    "\n",
    "# print(\"X_train shape\", X_train.shape)\n",
    "# print(\"Y_train shape\", Y_train.shape)\n",
    "# print(\"X_test shape\", X_test.shape)\n",
    "# print(\"Y_test shape\", Y_test.shape)\n",
    "  \n",
    "print(X_test)"
   ]
  },
  {
   "cell_type": "code",
   "execution_count": 8,
   "metadata": {},
   "outputs": [
    {
     "data": {
      "text/plain": [
       "0.2787432192455682"
      ]
     },
     "execution_count": 8,
     "metadata": {},
     "output_type": "execute_result"
    }
   ],
   "source": [
    "dtm = DecisionTreeRegressor()\n",
    "dtm_pipeline = make_pipeline(column_transform, dtm)\n",
    "\n",
    "dtm_pipeline.fit(X_train, Y_train)\n",
    "\n",
    "filename = 'model.sav'\n",
    "pickle.dump(dtm_pipeline, open(filename, 'wb'))\n",
    "\n",
    "dtm_pipeline.score(X_test, Y_test)\n",
    "\n",
    "# print(X_test)\n",
    "# predictions = dtm_pipeline.predict(X_test)\n",
    "# print(\"First 5 DTM predictions\", list(predictions[:5]))\n"
   ]
  },
  {
   "cell_type": "code",
   "execution_count": null,
   "metadata": {},
   "outputs": [],
   "source": [
    "dtm_pipeline.fit(X, y)\n",
    "pickle.dump(dtm_pipeline, open(\"../backend/models/trained_model.sav\", \"wb\"))\n"
   ]
  },
  {
   "cell_type": "code",
   "execution_count": null,
   "metadata": {},
   "outputs": [
    {
     "data": {
      "text/plain": [
       "15186544.425531914"
      ]
     },
     "execution_count": 30,
     "metadata": {},
     "output_type": "execute_result"
    }
   ],
   "source": [
    "# load the model from disk\n",
    "loaded_model = pickle.load(open(\"../backend/models/trained_model.sav\", 'rb'))\n",
    "\n",
    "user_input_1 = [\"SF Bay\", \"operating\", \"web\"]\n",
    "user_input_2 = [\"series a\"]\n",
    "\n",
    "input = np.concatenate((user_input_1, user_input_2), axis=0).reshape(1, -1)\n",
    "input = pd.DataFrame(input, columns = [\"region\", \"status\", \"category_code\", \"funding_round_type\"])\n",
    "\n",
    "\n",
    "prediction = loaded_model.predict(input)[0]\n",
    "prediction\n"
   ]
  }
 ],
 "metadata": {
  "kernelspec": {
   "display_name": "project-env",
   "language": "python",
   "name": "python3"
  },
  "language_info": {
   "codemirror_mode": {
    "name": "ipython",
    "version": 3
   },
   "file_extension": ".py",
   "mimetype": "text/x-python",
   "name": "python",
   "nbconvert_exporter": "python",
   "pygments_lexer": "ipython3",
   "version": "3.11.0"
  },
  "orig_nbformat": 4,
  "vscode": {
   "interpreter": {
    "hash": "240c9503411c4b36796fcb1ea420304c18d2edb98b0d7bf5c02360aadceb56b5"
   }
  }
 },
 "nbformat": 4,
 "nbformat_minor": 2
}
