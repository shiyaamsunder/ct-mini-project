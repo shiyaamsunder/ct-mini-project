{
 "cells": [
  {
   "cell_type": "code",
   "execution_count": 1,
   "id": "029f114c-2360-4d0a-9d37-ce3888ed2a09",
   "metadata": {},
   "outputs": [
    {
     "name": "stdout",
     "output_type": "stream",
     "text": [
      "Information of total number of non-empty columns\n",
      "-------------------------------------------------\n",
      "<class 'pandas.core.frame.DataFrame'>\n",
      "RangeIndex: 3044 entries, 0 to 3043\n",
      "Data columns (total 10 columns):\n",
      " #   Column             Non-Null Count  Dtype \n",
      "---  ------             --------------  ----- \n",
      " 0   Sr No              3044 non-null   int64 \n",
      " 1   Date dd/mm/yyyy    3044 non-null   object\n",
      " 2   Startup Name       3044 non-null   object\n",
      " 3   Industry Vertical  2873 non-null   object\n",
      " 4   SubVertical        2108 non-null   object\n",
      " 5   City  Location     2864 non-null   object\n",
      " 6   Investors Name     3020 non-null   object\n",
      " 7   InvestmentnType    3040 non-null   object\n",
      " 8   Amount in USD      2080 non-null   object\n",
      " 9   Remarks            419 non-null    object\n",
      "dtypes: int64(1), object(9)\n",
      "memory usage: 237.9+ KB\n"
     ]
    }
   ],
   "source": [
    "import pandas as pd\n",
    "import numpy as np\n",
    "df1 = pd.read_csv(\"../datasets/startup_funding_1.csv\")\n",
    "# df1 = pd.read_csv(\"../datasets/startup_funding_2.csv\")\n",
    "# df1 = pd.read_csv(\"../datasets/startup_investments/funds.csv\")\n",
    "\n",
    "print(\"Information of total number of non-empty columns\")\n",
    "print(\"-------------------------------------------------\")\n",
    "# print(df1.info(show_counts=True))\n",
    "\n",
    "df1.info(show_counts=True)\n",
    "\n"
   ]
  },
  {
   "cell_type": "code",
   "execution_count": 2,
   "id": "bd244e31-a28c-47da-8a7b-f1f630edd513",
   "metadata": {},
   "outputs": [
    {
     "name": "stdout",
     "output_type": "stream",
     "text": [
      "Frequency count of missing values\n"
     ]
    },
    {
     "data": {
      "text/plain": [
       "Sr No                   0\n",
       "Date dd/mm/yyyy         0\n",
       "Startup Name            0\n",
       "Industry Vertical     171\n",
       "SubVertical           936\n",
       "City  Location        180\n",
       "Investors Name         24\n",
       "InvestmentnType         4\n",
       "Amount in USD         964\n",
       "Remarks              2625\n",
       "dtype: int64"
      ]
     },
     "execution_count": 2,
     "metadata": {},
     "output_type": "execute_result"
    }
   ],
   "source": [
    "print(\"Frequency count of missing values\")\n",
    "df1.apply(lambda X:sum(X.isnull())) "
   ]
  },
  {
   "cell_type": "code",
   "execution_count": 3,
   "id": "6077949b-2418-455d-a6c9-71de53242e42",
   "metadata": {},
   "outputs": [
    {
     "name": "stdout",
     "output_type": "stream",
     "text": [
      "Information of total number of non-empty columns\n",
      "-------------------------------------------------\n",
      "<class 'pandas.core.frame.DataFrame'>\n",
      "Int64Index: 2073 entries, 0 to 3043\n",
      "Data columns (total 7 columns):\n",
      " #   Column           Non-Null Count  Dtype \n",
      "---  ------           --------------  ----- \n",
      " 0   startup_name     2073 non-null   object\n",
      " 1   vertical         1942 non-null   object\n",
      " 2   subvertical      1419 non-null   object\n",
      " 3   location         1938 non-null   object\n",
      " 4   investors_name   2053 non-null   object\n",
      " 5   investment_type  2070 non-null   object\n",
      " 6   amount_in_usd    2073 non-null   object\n",
      "dtypes: object(7)\n",
      "memory usage: 129.6+ KB\n",
      "None\n"
     ]
    }
   ],
   "source": [
    "# Copying the df\n",
    "df = df1.copy()\n",
    "# df = df.dropna(axis=1)\n",
    "df.rename(columns = {'Sr No': 's_no', 'Date dd/mm/yyyy':'date', 'Startup Name': 'startup_name', 'Industry Vertical': 'vertical', 'SubVertical': 'subvertical', 'City  Location': 'location', 'Investors Name': 'investors_name', 'InvestmentnType': 'investment_type', 'Amount in USD': 'amount_in_usd' }, inplace = True)\n",
    "df = df.drop(labels = [\"s_no\",\"Remarks\", \"date\"], axis=1)\n",
    "# df = df.drop(labels = \"amount_in_usd\", axis=0)\n",
    "df = df[df['amount_in_usd'].notna()]\n",
    "delete_row1 = df[df[\"amount_in_usd\"]==\"undisclosed\"].index\n",
    "delete_row2 = df[df[\"amount_in_usd\"]==\"Undisclosed\"].index\n",
    "delete_row3 = df[df[\"amount_in_usd\"]==\"unknown\"].index\n",
    "df = df.drop(delete_row1)\n",
    "df = df.drop(delete_row2)\n",
    "df = df.drop(delete_row3)\n",
    "df.head()\n",
    "\n",
    "print(\"Information of total number of non-empty columns\")\n",
    "print(\"-------------------------------------------------\")\n",
    "print(df.info(show_counts=True))\n"
   ]
  },
  {
   "cell_type": "code",
   "execution_count": 4,
   "id": "611dfaf3-ea27-4159-853e-73b4dacc4ee5",
   "metadata": {},
   "outputs": [
    {
     "name": "stdout",
     "output_type": "stream",
     "text": [
      "Frequency count of missing values\n"
     ]
    },
    {
     "data": {
      "text/plain": [
       "startup_name         0\n",
       "vertical           131\n",
       "subvertical        654\n",
       "location           135\n",
       "investors_name      20\n",
       "investment_type      3\n",
       "amount_in_usd        0\n",
       "dtype: int64"
      ]
     },
     "execution_count": 4,
     "metadata": {},
     "output_type": "execute_result"
    }
   ],
   "source": [
    "print(\"Frequency count of missing values\")\n",
    "df.apply(lambda X:sum(X.isnull())) \n"
   ]
  },
  {
   "cell_type": "code",
   "execution_count": 22,
   "id": "d6f6dfc7-1353-4e20-a12d-cf1536c701f2",
   "metadata": {},
   "outputs": [],
   "source": [
    "### trying decision tree\n",
    "\n",
    "from sklearn.metrics import mean_absolute_error\n",
    "from sklearn.model_selection import train_test_split\n",
    "from sklearn.tree import DecisionTreeRegressor\n",
    "from sklearn.tree import DecisionTreeClassifier\n",
    "from sklearn.preprocessing import LabelEncoder\n",
    "from sklearn.preprocessing import OneHotEncoder\n",
    "from sklearn.compose import make_column_transformer\n",
    "import matplotlib.pyplot as plt\n",
    "import re\n",
    "def sanitize_amount(amount):\n",
    "    # if amount.lower() == 'undisclosed' or amount == 'unknown':\n",
    "    #     return 0.0\n",
    "    return float(amount.replace(\",\", \"\"))\n",
    "\n",
    "def correct_location(loc):\n",
    "    if(\"/\" in str(loc)):\n",
    "        return str(loc).split(\"/\")[0]\n",
    "    return str(loc).replace(\"Bengaluru\", \"Bangalore\")\n",
    "    # return loc\n",
    "    \n",
    "\n",
    "def to_string(x):\n",
    "    return str(x)\n",
    "        \n",
    "data = df.copy()\n",
    "data[\"location\"] = data[\"location\"].apply(correct_location)\n",
    "data.vertical = data.vertical.apply(to_string)\n",
    "data.subvertical = data.subvertical.apply(to_string)\n",
    "values = [\"NaN\", \"nan\", \"Nan\"]\n",
    "data = data[(data.vertical != \"nan\") & (data.subvertical != \"nan\") & (data.location != \"nan\") & (data.investment_type.isin(values) == False)]\n",
    "\n",
    "data.amount_in_usd = data.amount_in_usd.apply(sanitize_amount)\n",
    "data.location.unique()\n",
    "# data.location.unique()\n",
    "data.dropna(subset=['investment_type'], inplace=True)\n",
    "data.investment_type.isnull().sum()\n",
    "data.to_csv(\"../datasets/dataset_final.csv\", index=False)\n"
   ]
  }
 ],
 "metadata": {
  "kernelspec": {
   "display_name": "project-env",
   "language": "python",
   "name": "python3"
  },
  "language_info": {
   "codemirror_mode": {
    "name": "ipython",
    "version": 3
   },
   "file_extension": ".py",
   "mimetype": "text/x-python",
   "name": "python",
   "nbconvert_exporter": "python",
   "pygments_lexer": "ipython3",
   "version": "3.11.0 (main, Oct 24 2022, 18:26:48) [MSC v.1933 64 bit (AMD64)]"
  },
  "vscode": {
   "interpreter": {
    "hash": "240c9503411c4b36796fcb1ea420304c18d2edb98b0d7bf5c02360aadceb56b5"
   }
  }
 },
 "nbformat": 4,
 "nbformat_minor": 5
}
